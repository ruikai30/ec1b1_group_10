{
 "cells": [
  {
   "cell_type": "markdown",
   "metadata": {},
   "source": [
    "# **Set-up**"
   ]
  },
  {
   "cell_type": "markdown",
   "metadata": {},
   "source": [
    "Terminal command:\n",
    "\n",
    "```console\n",
    "pip install numpy\n",
    "pip install pandas\n",
    "pip install openpyxl\n",
    "pip install datetime\n",
    "pip install matplotlib\n",
    "```"
   ]
  },
  {
   "cell_type": "markdown",
   "metadata": {},
   "source": [
    "Import packages needed for notebook:"
   ]
  },
  {
   "cell_type": "code",
   "execution_count": 1,
   "metadata": {},
   "outputs": [],
   "source": [
    "import numpy as np\n",
    "import pandas as pd\n",
    "from datetime import datetime"
   ]
  },
  {
   "cell_type": "markdown",
   "metadata": {},
   "source": [
    "Ensure current working directory is in \"EC1B1\" folder"
   ]
  },
  {
   "cell_type": "markdown",
   "metadata": {},
   "source": [
    "# **Read Excel**"
   ]
  },
  {
   "cell_type": "code",
   "execution_count": 2,
   "metadata": {},
   "outputs": [],
   "source": [
    "df_spain_raw = pd.read_excel('./data/data_spain.xlsx')\n",
    "df_us_raw = pd.read_excel('./data/data_united_states.xlsx')"
   ]
  },
  {
   "cell_type": "markdown",
   "metadata": {},
   "source": [
    "We save dataframe in another variable to keep the raw data untouched"
   ]
  },
  {
   "cell_type": "code",
   "execution_count": 3,
   "metadata": {},
   "outputs": [],
   "source": [
    "spain_1 = df_spain_raw\n",
    "us_1 = df_us_raw"
   ]
  },
  {
   "cell_type": "markdown",
   "metadata": {},
   "source": [
    "Inspect the dataframe"
   ]
  },
  {
   "cell_type": "code",
   "execution_count": 4,
   "metadata": {},
   "outputs": [
    {
     "data": {
      "text/html": [
       "<div>\n",
       "<style scoped>\n",
       "    .dataframe tbody tr th:only-of-type {\n",
       "        vertical-align: middle;\n",
       "    }\n",
       "\n",
       "    .dataframe tbody tr th {\n",
       "        vertical-align: top;\n",
       "    }\n",
       "\n",
       "    .dataframe thead th {\n",
       "        text-align: right;\n",
       "    }\n",
       "</style>\n",
       "<table border=\"1\" class=\"dataframe\">\n",
       "  <thead>\n",
       "    <tr style=\"text-align: right;\">\n",
       "      <th></th>\n",
       "      <th>International Financial Statistics (IFS)</th>\n",
       "      <th>Unnamed: 1</th>\n",
       "      <th>Unnamed: 2</th>\n",
       "      <th>Unnamed: 3</th>\n",
       "      <th>Unnamed: 4</th>\n",
       "    </tr>\n",
       "  </thead>\n",
       "  <tbody>\n",
       "    <tr>\n",
       "      <th>0</th>\n",
       "      <td>NaN</td>\n",
       "      <td>Economic Activity, Industrial Production, Index</td>\n",
       "      <td>Exchange Rates, US Dollar per Domestic Currenc...</td>\n",
       "      <td>International Reserves and Liquidity, Reserves...</td>\n",
       "      <td>Prices, Consumer Price Index, All items, Index</td>\n",
       "    </tr>\n",
       "    <tr>\n",
       "      <th>1</th>\n",
       "      <td>Jan 1960</td>\n",
       "      <td>NaN</td>\n",
       "      <td>0.016667</td>\n",
       "      <td>233</td>\n",
       "      <td>2.857368</td>\n",
       "    </tr>\n",
       "    <tr>\n",
       "      <th>2</th>\n",
       "      <td>Feb 1960</td>\n",
       "      <td>NaN</td>\n",
       "      <td>0.016667</td>\n",
       "      <td>253</td>\n",
       "      <td>2.855049</td>\n",
       "    </tr>\n",
       "    <tr>\n",
       "      <th>3</th>\n",
       "      <td>Mar 1960</td>\n",
       "      <td>NaN</td>\n",
       "      <td>0.016667</td>\n",
       "      <td>299</td>\n",
       "      <td>2.851573</td>\n",
       "    </tr>\n",
       "    <tr>\n",
       "      <th>4</th>\n",
       "      <td>Apr 1960</td>\n",
       "      <td>NaN</td>\n",
       "      <td>0.016667</td>\n",
       "      <td>326</td>\n",
       "      <td>2.853891</td>\n",
       "    </tr>\n",
       "  </tbody>\n",
       "</table>\n",
       "</div>"
      ],
      "text/plain": [
       "  International Financial Statistics (IFS)  \\\n",
       "0                                      NaN   \n",
       "1                                 Jan 1960   \n",
       "2                                 Feb 1960   \n",
       "3                                 Mar 1960   \n",
       "4                                 Apr 1960   \n",
       "\n",
       "                                        Unnamed: 1  \\\n",
       "0  Economic Activity, Industrial Production, Index   \n",
       "1                                              NaN   \n",
       "2                                              NaN   \n",
       "3                                              NaN   \n",
       "4                                              NaN   \n",
       "\n",
       "                                          Unnamed: 2  \\\n",
       "0  Exchange Rates, US Dollar per Domestic Currenc...   \n",
       "1                                           0.016667   \n",
       "2                                           0.016667   \n",
       "3                                           0.016667   \n",
       "4                                           0.016667   \n",
       "\n",
       "                                          Unnamed: 3  \\\n",
       "0  International Reserves and Liquidity, Reserves...   \n",
       "1                                                233   \n",
       "2                                                253   \n",
       "3                                                299   \n",
       "4                                                326   \n",
       "\n",
       "                                       Unnamed: 4  \n",
       "0  Prices, Consumer Price Index, All items, Index  \n",
       "1                                        2.857368  \n",
       "2                                        2.855049  \n",
       "3                                        2.851573  \n",
       "4                                        2.853891  "
      ]
     },
     "execution_count": 4,
     "metadata": {},
     "output_type": "execute_result"
    }
   ],
   "source": [
    "spain_1.head()"
   ]
  },
  {
   "cell_type": "markdown",
   "metadata": {},
   "source": [
    "# **Initial Cleaning**"
   ]
  },
  {
   "cell_type": "markdown",
   "metadata": {},
   "source": [
    "## For Spain:"
   ]
  },
  {
   "cell_type": "code",
   "execution_count": 5,
   "metadata": {},
   "outputs": [],
   "source": [
    "spain_2 = spain_1 \\\n",
    "    .rename(columns={'International Financial Statistics (IFS)': 'date', 'Unnamed: 1': 'industrial_index', 'Unnamed: 2': 'nominal_exchange_rate', 'Unnamed: 3': 'reserves', 'Unnamed: 4': 'price_index'}) \\\n",
    "    .dropna()"
   ]
  },
  {
   "cell_type": "code",
   "execution_count": 6,
   "metadata": {},
   "outputs": [],
   "source": [
    "spain_3 = spain_2\n",
    "spain_3['nominal_exchange_rate'] = spain_3['nominal_exchange_rate'].apply(lambda x: 1/x)"
   ]
  },
  {
   "cell_type": "code",
   "execution_count": 8,
   "metadata": {},
   "outputs": [],
   "source": [
    "spain_4 = spain_3\n",
    "spain_4['date'] = spain_4['date'].apply(lambda x: datetime.strptime(x, '%b %Y'))"
   ]
  },
  {
   "cell_type": "code",
   "execution_count": 9,
   "metadata": {},
   "outputs": [],
   "source": [
    "spain_5 = spain_4\n",
    "spain_columns = ['industrial_index', 'nominal_exchange_rate', 'reserves', 'price_index']\n",
    "for column in spain_columns:\n",
    "    spain_5[column] = pd.to_numeric(spain_5[column])\n",
    "    spain_5[column] = spain_5[column].round(2)"
   ]
  },
  {
   "cell_type": "code",
   "execution_count": 10,
   "metadata": {},
   "outputs": [
    {
     "data": {
      "text/html": [
       "<div>\n",
       "<style scoped>\n",
       "    .dataframe tbody tr th:only-of-type {\n",
       "        vertical-align: middle;\n",
       "    }\n",
       "\n",
       "    .dataframe tbody tr th {\n",
       "        vertical-align: top;\n",
       "    }\n",
       "\n",
       "    .dataframe thead th {\n",
       "        text-align: right;\n",
       "    }\n",
       "</style>\n",
       "<table border=\"1\" class=\"dataframe\">\n",
       "  <thead>\n",
       "    <tr style=\"text-align: right;\">\n",
       "      <th></th>\n",
       "      <th>date</th>\n",
       "      <th>industrial_index</th>\n",
       "      <th>nominal_exchange_rate</th>\n",
       "      <th>reserves</th>\n",
       "      <th>price_index</th>\n",
       "    </tr>\n",
       "  </thead>\n",
       "  <tbody>\n",
       "    <tr>\n",
       "      <th>13</th>\n",
       "      <td>1961-01-01</td>\n",
       "      <td>18.68</td>\n",
       "      <td>60.0</td>\n",
       "      <td>536.00</td>\n",
       "      <td>2.91</td>\n",
       "    </tr>\n",
       "    <tr>\n",
       "      <th>14</th>\n",
       "      <td>1961-02-01</td>\n",
       "      <td>18.25</td>\n",
       "      <td>60.0</td>\n",
       "      <td>565.00</td>\n",
       "      <td>2.89</td>\n",
       "    </tr>\n",
       "    <tr>\n",
       "      <th>15</th>\n",
       "      <td>1961-03-01</td>\n",
       "      <td>18.42</td>\n",
       "      <td>60.0</td>\n",
       "      <td>561.55</td>\n",
       "      <td>2.87</td>\n",
       "    </tr>\n",
       "    <tr>\n",
       "      <th>16</th>\n",
       "      <td>1961-04-01</td>\n",
       "      <td>18.61</td>\n",
       "      <td>60.0</td>\n",
       "      <td>593.50</td>\n",
       "      <td>2.88</td>\n",
       "    </tr>\n",
       "    <tr>\n",
       "      <th>17</th>\n",
       "      <td>1961-05-01</td>\n",
       "      <td>19.58</td>\n",
       "      <td>60.0</td>\n",
       "      <td>643.50</td>\n",
       "      <td>2.87</td>\n",
       "    </tr>\n",
       "  </tbody>\n",
       "</table>\n",
       "</div>"
      ],
      "text/plain": [
       "         date  industrial_index  nominal_exchange_rate  reserves  price_index\n",
       "13 1961-01-01             18.68                   60.0    536.00         2.91\n",
       "14 1961-02-01             18.25                   60.0    565.00         2.89\n",
       "15 1961-03-01             18.42                   60.0    561.55         2.87\n",
       "16 1961-04-01             18.61                   60.0    593.50         2.88\n",
       "17 1961-05-01             19.58                   60.0    643.50         2.87"
      ]
     },
     "execution_count": 10,
     "metadata": {},
     "output_type": "execute_result"
    }
   ],
   "source": [
    "spain_5.head()"
   ]
  },
  {
   "cell_type": "code",
   "execution_count": 11,
   "metadata": {},
   "outputs": [],
   "source": [
    "spain_basic_cleaned = spain_5"
   ]
  },
  {
   "cell_type": "markdown",
   "metadata": {},
   "source": [
    "## Using similar codes, repeat for US:"
   ]
  },
  {
   "cell_type": "code",
   "execution_count": 12,
   "metadata": {},
   "outputs": [],
   "source": [
    "# Repeat first step using code from Spain\n",
    "us_1 = us_1 \\\n",
    "    .rename(columns={'International Financial Statistics (IFS)': 'date', 'Unnamed: 1': 'reserves', 'Unnamed: 2': 'price_index'}) \\\n",
    "    .dropna()\n",
    "\n",
    "# Tidy the data using similar process\n",
    "us_1['date'] = us_1['date'].apply(lambda x: datetime.strptime(x, '%b %Y'))\n",
    "\n",
    "for column in ['reserves', 'price_index']:\n",
    "    us_1[column] = pd.to_numeric(us_1[column])\n",
    "    us_1[column] = us_1[column].round(2)\n",
    "\n",
    "us_basic_cleaned = us_1"
   ]
  },
  {
   "cell_type": "code",
   "execution_count": 13,
   "metadata": {},
   "outputs": [
    {
     "data": {
      "text/html": [
       "<div>\n",
       "<style scoped>\n",
       "    .dataframe tbody tr th:only-of-type {\n",
       "        vertical-align: middle;\n",
       "    }\n",
       "\n",
       "    .dataframe tbody tr th {\n",
       "        vertical-align: top;\n",
       "    }\n",
       "\n",
       "    .dataframe thead th {\n",
       "        text-align: right;\n",
       "    }\n",
       "</style>\n",
       "<table border=\"1\" class=\"dataframe\">\n",
       "  <thead>\n",
       "    <tr style=\"text-align: right;\">\n",
       "      <th></th>\n",
       "      <th>date</th>\n",
       "      <th>reserves</th>\n",
       "      <th>price_index</th>\n",
       "    </tr>\n",
       "  </thead>\n",
       "  <tbody>\n",
       "    <tr>\n",
       "      <th>1</th>\n",
       "      <td>1960-01-01</td>\n",
       "      <td>21478.1</td>\n",
       "      <td>13.44</td>\n",
       "    </tr>\n",
       "    <tr>\n",
       "      <th>2</th>\n",
       "      <td>1960-02-01</td>\n",
       "      <td>21395.7</td>\n",
       "      <td>13.48</td>\n",
       "    </tr>\n",
       "    <tr>\n",
       "      <th>3</th>\n",
       "      <td>1960-03-01</td>\n",
       "      <td>21344.7</td>\n",
       "      <td>13.48</td>\n",
       "    </tr>\n",
       "    <tr>\n",
       "      <th>4</th>\n",
       "      <td>1960-04-01</td>\n",
       "      <td>21278.0</td>\n",
       "      <td>13.53</td>\n",
       "    </tr>\n",
       "    <tr>\n",
       "      <th>5</th>\n",
       "      <td>1960-05-01</td>\n",
       "      <td>21234.3</td>\n",
       "      <td>13.53</td>\n",
       "    </tr>\n",
       "  </tbody>\n",
       "</table>\n",
       "</div>"
      ],
      "text/plain": [
       "        date  reserves  price_index\n",
       "1 1960-01-01   21478.1        13.44\n",
       "2 1960-02-01   21395.7        13.48\n",
       "3 1960-03-01   21344.7        13.48\n",
       "4 1960-04-01   21278.0        13.53\n",
       "5 1960-05-01   21234.3        13.53"
      ]
     },
     "execution_count": 13,
     "metadata": {},
     "output_type": "execute_result"
    }
   ],
   "source": [
    "us_basic_cleaned.head()"
   ]
  },
  {
   "cell_type": "markdown",
   "metadata": {},
   "source": [
    "# **Data manipulation**"
   ]
  },
  {
   "cell_type": "markdown",
   "metadata": {},
   "source": [
    "Define real exchange rate"
   ]
  },
  {
   "cell_type": "code",
   "execution_count": null,
   "metadata": {},
   "outputs": [],
   "source": []
  },
  {
   "cell_type": "markdown",
   "metadata": {},
   "source": [
    "Create the lag variables:"
   ]
  },
  {
   "cell_type": "code",
   "execution_count": 14,
   "metadata": {},
   "outputs": [],
   "source": [
    "# For Spain\n",
    "spain1 = spain_basic_cleaned\n",
    "spain1['nominal_exchange_rate_lag_1'] = spain1['nominal_exchange_rate'].shift(1)\n",
    "spain1['price_index_lag_1'] = spain1['price_index'].shift(1)\n",
    "spain1['industrial_index_lag_1'] = spain1['industrial_index'].shift(1)\n",
    "spain1['industrial_index_lag_12'] = spain1['industrial_index'].shift(12)\n",
    "\n",
    "# For US\n",
    "us1 = us_basic_cleaned\n",
    "us1['price_index_lag_1'] = us1['price_index'].shift(1)\n"
   ]
  },
  {
   "cell_type": "code",
   "execution_count": 15,
   "metadata": {},
   "outputs": [
    {
     "data": {
      "text/html": [
       "<div>\n",
       "<style scoped>\n",
       "    .dataframe tbody tr th:only-of-type {\n",
       "        vertical-align: middle;\n",
       "    }\n",
       "\n",
       "    .dataframe tbody tr th {\n",
       "        vertical-align: top;\n",
       "    }\n",
       "\n",
       "    .dataframe thead th {\n",
       "        text-align: right;\n",
       "    }\n",
       "</style>\n",
       "<table border=\"1\" class=\"dataframe\">\n",
       "  <thead>\n",
       "    <tr style=\"text-align: right;\">\n",
       "      <th></th>\n",
       "      <th>date</th>\n",
       "      <th>industrial_index</th>\n",
       "      <th>nominal_exchange_rate</th>\n",
       "      <th>reserves</th>\n",
       "      <th>price_index</th>\n",
       "      <th>nominal_exchange_rate_lag_1</th>\n",
       "      <th>price_index_lag_1</th>\n",
       "      <th>industrial_index_lag_1</th>\n",
       "      <th>industrial_index_lag_12</th>\n",
       "    </tr>\n",
       "  </thead>\n",
       "  <tbody>\n",
       "    <tr>\n",
       "      <th>13</th>\n",
       "      <td>1961-01-01</td>\n",
       "      <td>18.68</td>\n",
       "      <td>60.0</td>\n",
       "      <td>536.00</td>\n",
       "      <td>2.91</td>\n",
       "      <td>NaN</td>\n",
       "      <td>NaN</td>\n",
       "      <td>NaN</td>\n",
       "      <td>NaN</td>\n",
       "    </tr>\n",
       "    <tr>\n",
       "      <th>14</th>\n",
       "      <td>1961-02-01</td>\n",
       "      <td>18.25</td>\n",
       "      <td>60.0</td>\n",
       "      <td>565.00</td>\n",
       "      <td>2.89</td>\n",
       "      <td>60.0</td>\n",
       "      <td>2.91</td>\n",
       "      <td>18.68</td>\n",
       "      <td>NaN</td>\n",
       "    </tr>\n",
       "    <tr>\n",
       "      <th>15</th>\n",
       "      <td>1961-03-01</td>\n",
       "      <td>18.42</td>\n",
       "      <td>60.0</td>\n",
       "      <td>561.55</td>\n",
       "      <td>2.87</td>\n",
       "      <td>60.0</td>\n",
       "      <td>2.89</td>\n",
       "      <td>18.25</td>\n",
       "      <td>NaN</td>\n",
       "    </tr>\n",
       "    <tr>\n",
       "      <th>16</th>\n",
       "      <td>1961-04-01</td>\n",
       "      <td>18.61</td>\n",
       "      <td>60.0</td>\n",
       "      <td>593.50</td>\n",
       "      <td>2.88</td>\n",
       "      <td>60.0</td>\n",
       "      <td>2.87</td>\n",
       "      <td>18.42</td>\n",
       "      <td>NaN</td>\n",
       "    </tr>\n",
       "    <tr>\n",
       "      <th>17</th>\n",
       "      <td>1961-05-01</td>\n",
       "      <td>19.58</td>\n",
       "      <td>60.0</td>\n",
       "      <td>643.50</td>\n",
       "      <td>2.87</td>\n",
       "      <td>60.0</td>\n",
       "      <td>2.88</td>\n",
       "      <td>18.61</td>\n",
       "      <td>NaN</td>\n",
       "    </tr>\n",
       "  </tbody>\n",
       "</table>\n",
       "</div>"
      ],
      "text/plain": [
       "         date  industrial_index  nominal_exchange_rate  reserves  price_index  \\\n",
       "13 1961-01-01             18.68                   60.0    536.00         2.91   \n",
       "14 1961-02-01             18.25                   60.0    565.00         2.89   \n",
       "15 1961-03-01             18.42                   60.0    561.55         2.87   \n",
       "16 1961-04-01             18.61                   60.0    593.50         2.88   \n",
       "17 1961-05-01             19.58                   60.0    643.50         2.87   \n",
       "\n",
       "    nominal_exchange_rate_lag_1  price_index_lag_1  industrial_index_lag_1  \\\n",
       "13                          NaN                NaN                     NaN   \n",
       "14                         60.0               2.91                   18.68   \n",
       "15                         60.0               2.89                   18.25   \n",
       "16                         60.0               2.87                   18.42   \n",
       "17                         60.0               2.88                   18.61   \n",
       "\n",
       "    industrial_index_lag_12  \n",
       "13                      NaN  \n",
       "14                      NaN  \n",
       "15                      NaN  \n",
       "16                      NaN  \n",
       "17                      NaN  "
      ]
     },
     "execution_count": 15,
     "metadata": {},
     "output_type": "execute_result"
    }
   ],
   "source": [
    "spain1.head()"
   ]
  }
 ],
 "metadata": {
  "kernelspec": {
   "display_name": "base",
   "language": "python",
   "name": "python3"
  },
  "language_info": {
   "codemirror_mode": {
    "name": "ipython",
    "version": 3
   },
   "file_extension": ".py",
   "mimetype": "text/x-python",
   "name": "python",
   "nbconvert_exporter": "python",
   "pygments_lexer": "ipython3",
   "version": "3.11.4"
  }
 },
 "nbformat": 4,
 "nbformat_minor": 2
}
