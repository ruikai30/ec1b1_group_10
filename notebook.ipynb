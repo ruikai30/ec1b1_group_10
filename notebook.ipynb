{
 "cells": [
  {
   "cell_type": "markdown",
   "metadata": {},
   "source": [
    "# **Set-up**"
   ]
  },
  {
   "cell_type": "markdown",
   "metadata": {},
   "source": [
    "Terminal command:\n",
    "\n",
    "```console\n",
    "pip install numpy\n",
    "pip install pandas\n",
    "pip install openpyxl\n",
    "pip install matplotlib\n",
    "```"
   ]
  },
  {
   "cell_type": "code",
   "execution_count": 1,
   "metadata": {},
   "outputs": [],
   "source": [
    "import numpy as np\n",
    "import pandas as pd"
   ]
  },
  {
   "cell_type": "markdown",
   "metadata": {},
   "source": [
    "Ensure current working directory is in \"EC1B1\" folder"
   ]
  },
  {
   "cell_type": "markdown",
   "metadata": {},
   "source": [
    "# **Read Excel**"
   ]
  },
  {
   "cell_type": "code",
   "execution_count": 3,
   "metadata": {},
   "outputs": [],
   "source": [
    "df_spain_raw = pd.read_excel('./data/data_spain.xlsx')\n",
    "df_us_raw = pd.read_excel('./data/data_united_states.xlsx')"
   ]
  },
  {
   "cell_type": "markdown",
   "metadata": {},
   "source": [
    "We save dataframe in another variable to keep the raw data untouched"
   ]
  },
  {
   "cell_type": "code",
   "execution_count": 5,
   "metadata": {},
   "outputs": [],
   "source": [
    "spain_1 = df_spain_raw\n",
    "us_1 = df_us_raw"
   ]
  },
  {
   "cell_type": "markdown",
   "metadata": {},
   "source": [
    "Inspect the dataframe"
   ]
  },
  {
   "cell_type": "code",
   "execution_count": 6,
   "metadata": {},
   "outputs": [
    {
     "data": {
      "text/html": [
       "<div>\n",
       "<style scoped>\n",
       "    .dataframe tbody tr th:only-of-type {\n",
       "        vertical-align: middle;\n",
       "    }\n",
       "\n",
       "    .dataframe tbody tr th {\n",
       "        vertical-align: top;\n",
       "    }\n",
       "\n",
       "    .dataframe thead th {\n",
       "        text-align: right;\n",
       "    }\n",
       "</style>\n",
       "<table border=\"1\" class=\"dataframe\">\n",
       "  <thead>\n",
       "    <tr style=\"text-align: right;\">\n",
       "      <th></th>\n",
       "      <th>International Financial Statistics (IFS)</th>\n",
       "      <th>Unnamed: 1</th>\n",
       "      <th>Unnamed: 2</th>\n",
       "      <th>Unnamed: 3</th>\n",
       "      <th>Unnamed: 4</th>\n",
       "    </tr>\n",
       "  </thead>\n",
       "  <tbody>\n",
       "    <tr>\n",
       "      <th>0</th>\n",
       "      <td>NaN</td>\n",
       "      <td>Economic Activity, Industrial Production, Index</td>\n",
       "      <td>Exchange Rates, US Dollar per Domestic Currenc...</td>\n",
       "      <td>International Reserves and Liquidity, Reserves...</td>\n",
       "      <td>Prices, Consumer Price Index, All items, Index</td>\n",
       "    </tr>\n",
       "    <tr>\n",
       "      <th>1</th>\n",
       "      <td>Jan 1960</td>\n",
       "      <td>NaN</td>\n",
       "      <td>0.016667</td>\n",
       "      <td>233</td>\n",
       "      <td>2.857368</td>\n",
       "    </tr>\n",
       "    <tr>\n",
       "      <th>2</th>\n",
       "      <td>Feb 1960</td>\n",
       "      <td>NaN</td>\n",
       "      <td>0.016667</td>\n",
       "      <td>253</td>\n",
       "      <td>2.855049</td>\n",
       "    </tr>\n",
       "    <tr>\n",
       "      <th>3</th>\n",
       "      <td>Mar 1960</td>\n",
       "      <td>NaN</td>\n",
       "      <td>0.016667</td>\n",
       "      <td>299</td>\n",
       "      <td>2.851573</td>\n",
       "    </tr>\n",
       "    <tr>\n",
       "      <th>4</th>\n",
       "      <td>Apr 1960</td>\n",
       "      <td>NaN</td>\n",
       "      <td>0.016667</td>\n",
       "      <td>326</td>\n",
       "      <td>2.853891</td>\n",
       "    </tr>\n",
       "  </tbody>\n",
       "</table>\n",
       "</div>"
      ],
      "text/plain": [
       "  International Financial Statistics (IFS)  \\\n",
       "0                                      NaN   \n",
       "1                                 Jan 1960   \n",
       "2                                 Feb 1960   \n",
       "3                                 Mar 1960   \n",
       "4                                 Apr 1960   \n",
       "\n",
       "                                        Unnamed: 1  \\\n",
       "0  Economic Activity, Industrial Production, Index   \n",
       "1                                              NaN   \n",
       "2                                              NaN   \n",
       "3                                              NaN   \n",
       "4                                              NaN   \n",
       "\n",
       "                                          Unnamed: 2  \\\n",
       "0  Exchange Rates, US Dollar per Domestic Currenc...   \n",
       "1                                           0.016667   \n",
       "2                                           0.016667   \n",
       "3                                           0.016667   \n",
       "4                                           0.016667   \n",
       "\n",
       "                                          Unnamed: 3  \\\n",
       "0  International Reserves and Liquidity, Reserves...   \n",
       "1                                                233   \n",
       "2                                                253   \n",
       "3                                                299   \n",
       "4                                                326   \n",
       "\n",
       "                                       Unnamed: 4  \n",
       "0  Prices, Consumer Price Index, All items, Index  \n",
       "1                                        2.857368  \n",
       "2                                        2.855049  \n",
       "3                                        2.851573  \n",
       "4                                        2.853891  "
      ]
     },
     "execution_count": 6,
     "metadata": {},
     "output_type": "execute_result"
    }
   ],
   "source": [
    "spain_1.head()"
   ]
  },
  {
   "cell_type": "markdown",
   "metadata": {},
   "source": [
    "# **Initial Cleaning**"
   ]
  },
  {
   "cell_type": "code",
   "execution_count": 22,
   "metadata": {},
   "outputs": [],
   "source": [
    "spain_2 = spain_1 \\\n",
    "    .rename(columns={'Unnamed: 1': 'industrial_index', 'Unnamed: 2': 'exchange_rate', 'Unnamed: 3': 'reserves', 'Unnamed: 4': 'price_index'}) \\\n",
    "    .dropna()"
   ]
  },
  {
   "cell_type": "code",
   "execution_count": 24,
   "metadata": {},
   "outputs": [],
   "source": [
    "spain_3 = spain_2\n",
    "spain_3['exchange_rate'] = spain_3['exchange_rate'].apply(lambda x: 1/x)"
   ]
  },
  {
   "cell_type": "code",
   "execution_count": 25,
   "metadata": {},
   "outputs": [
    {
     "data": {
      "text/html": [
       "<div>\n",
       "<style scoped>\n",
       "    .dataframe tbody tr th:only-of-type {\n",
       "        vertical-align: middle;\n",
       "    }\n",
       "\n",
       "    .dataframe tbody tr th {\n",
       "        vertical-align: top;\n",
       "    }\n",
       "\n",
       "    .dataframe thead th {\n",
       "        text-align: right;\n",
       "    }\n",
       "</style>\n",
       "<table border=\"1\" class=\"dataframe\">\n",
       "  <thead>\n",
       "    <tr style=\"text-align: right;\">\n",
       "      <th></th>\n",
       "      <th>International Financial Statistics (IFS)</th>\n",
       "      <th>industrial_index</th>\n",
       "      <th>exchange_rate</th>\n",
       "      <th>reserves</th>\n",
       "      <th>price_index</th>\n",
       "    </tr>\n",
       "  </thead>\n",
       "  <tbody>\n",
       "    <tr>\n",
       "      <th>13</th>\n",
       "      <td>Jan 1961</td>\n",
       "      <td>18.681625</td>\n",
       "      <td>60.000</td>\n",
       "      <td>536</td>\n",
       "      <td>2.909531</td>\n",
       "    </tr>\n",
       "    <tr>\n",
       "      <th>14</th>\n",
       "      <td>Feb 1961</td>\n",
       "      <td>18.247714</td>\n",
       "      <td>60.000</td>\n",
       "      <td>565</td>\n",
       "      <td>2.885768</td>\n",
       "    </tr>\n",
       "    <tr>\n",
       "      <th>15</th>\n",
       "      <td>Mar 1961</td>\n",
       "      <td>18.423624</td>\n",
       "      <td>60.000</td>\n",
       "      <td>561.55</td>\n",
       "      <td>2.873017</td>\n",
       "    </tr>\n",
       "    <tr>\n",
       "      <th>16</th>\n",
       "      <td>Apr 1961</td>\n",
       "      <td>18.611261</td>\n",
       "      <td>60.000</td>\n",
       "      <td>593.5</td>\n",
       "      <td>2.880552</td>\n",
       "    </tr>\n",
       "    <tr>\n",
       "      <th>17</th>\n",
       "      <td>May 1961</td>\n",
       "      <td>19.584629</td>\n",
       "      <td>60.000</td>\n",
       "      <td>643.5</td>\n",
       "      <td>2.873017</td>\n",
       "    </tr>\n",
       "    <tr>\n",
       "      <th>...</th>\n",
       "      <td>...</td>\n",
       "      <td>...</td>\n",
       "      <td>...</td>\n",
       "      <td>...</td>\n",
       "      <td>...</td>\n",
       "    </tr>\n",
       "    <tr>\n",
       "      <th>368</th>\n",
       "      <td>Aug 1990</td>\n",
       "      <td>57.138375</td>\n",
       "      <td>97.029</td>\n",
       "      <td>53227.717281</td>\n",
       "      <td>52.200576</td>\n",
       "    </tr>\n",
       "    <tr>\n",
       "      <th>369</th>\n",
       "      <td>Sep 1990</td>\n",
       "      <td>97.803577</td>\n",
       "      <td>98.467</td>\n",
       "      <td>53790.187718</td>\n",
       "      <td>52.750025</td>\n",
       "    </tr>\n",
       "    <tr>\n",
       "      <th>370</th>\n",
       "      <td>Oct 1990</td>\n",
       "      <td>100.909947</td>\n",
       "      <td>95.697</td>\n",
       "      <td>55428.040577</td>\n",
       "      <td>53.218335</td>\n",
       "    </tr>\n",
       "    <tr>\n",
       "      <th>371</th>\n",
       "      <td>Nov 1990</td>\n",
       "      <td>104.110449</td>\n",
       "      <td>93.958</td>\n",
       "      <td>56347.862332</td>\n",
       "      <td>53.165017</td>\n",
       "    </tr>\n",
       "    <tr>\n",
       "      <th>372</th>\n",
       "      <td>Dec 1990</td>\n",
       "      <td>88.202071</td>\n",
       "      <td>95.234</td>\n",
       "      <td>56004.835968</td>\n",
       "      <td>53.295997</td>\n",
       "    </tr>\n",
       "  </tbody>\n",
       "</table>\n",
       "<p>360 rows × 5 columns</p>\n",
       "</div>"
      ],
      "text/plain": [
       "    International Financial Statistics (IFS) industrial_index  exchange_rate  \\\n",
       "13                                  Jan 1961        18.681625         60.000   \n",
       "14                                  Feb 1961        18.247714         60.000   \n",
       "15                                  Mar 1961        18.423624         60.000   \n",
       "16                                  Apr 1961        18.611261         60.000   \n",
       "17                                  May 1961        19.584629         60.000   \n",
       "..                                       ...              ...            ...   \n",
       "368                                 Aug 1990        57.138375         97.029   \n",
       "369                                 Sep 1990        97.803577         98.467   \n",
       "370                                 Oct 1990       100.909947         95.697   \n",
       "371                                 Nov 1990       104.110449         93.958   \n",
       "372                                 Dec 1990        88.202071         95.234   \n",
       "\n",
       "         reserves price_index  \n",
       "13            536    2.909531  \n",
       "14            565    2.885768  \n",
       "15         561.55    2.873017  \n",
       "16          593.5    2.880552  \n",
       "17          643.5    2.873017  \n",
       "..            ...         ...  \n",
       "368  53227.717281   52.200576  \n",
       "369  53790.187718   52.750025  \n",
       "370  55428.040577   53.218335  \n",
       "371  56347.862332   53.165017  \n",
       "372  56004.835968   53.295997  \n",
       "\n",
       "[360 rows x 5 columns]"
      ]
     },
     "execution_count": 25,
     "metadata": {},
     "output_type": "execute_result"
    }
   ],
   "source": [
    "spain_3"
   ]
  }
 ],
 "metadata": {
  "kernelspec": {
   "display_name": "base",
   "language": "python",
   "name": "python3"
  },
  "language_info": {
   "codemirror_mode": {
    "name": "ipython",
    "version": 3
   },
   "file_extension": ".py",
   "mimetype": "text/x-python",
   "name": "python",
   "nbconvert_exporter": "python",
   "pygments_lexer": "ipython3",
   "version": "3.11.4"
  }
 },
 "nbformat": 4,
 "nbformat_minor": 2
}
